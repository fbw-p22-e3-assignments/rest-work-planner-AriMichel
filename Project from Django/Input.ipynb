{
 "cells": [
  {
   "attachments": {},
   "cell_type": "markdown",
   "metadata": {},
   "source": [
    "Lets build a webpage with django.  Lets start with the things we need\n",
    "The project should be stored on github to be able to share it with some colleges.\n",
    "We need all the steps needed and an explanation (really important the what and why, what we mean is the documentation.)\n",
    "We are working with linux ubuntu, using the terminal. As IDE we are going to use VS Code, python3, django, django REST framework, postgresql for the database. \n",
    "\n",
    "Add a REST application from scratch that could serve as a work planning service.\n",
    "\n",
    "Business requirements:\n",
    "A worker has shifts\n",
    "A shift is 8 hours long\n",
    "A worker never has two shifts on the same day\n",
    "It is a 24-hour timetable 0-8, 8-16, 16-24\n",
    "Tips: Have a separate API for creating shifts and creating employees. Use model relationships to link users and shifts.\n",
    "Describe the steps needed to test our api with postman\n",
    "\n",
    "Include serialization, testing and django-html_sanitizer to sanitize html. \n",
    "\n",
    "Provide also the code with comments.\n",
    "\n",
    "It is important to thoroughly test your API using different endpoints, request methods, and payloads to ensure it meets the desired requirements, it is your task to provide this also."
   ]
  },
  {
   "cell_type": "markdown",
   "metadata": {},
   "source": []
  }
 ],
 "metadata": {
  "language_info": {
   "name": "python"
  },
  "orig_nbformat": 4
 },
 "nbformat": 4,
 "nbformat_minor": 2
}
